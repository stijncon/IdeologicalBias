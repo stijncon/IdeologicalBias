{
 "cells": [
  {
   "cell_type": "markdown",
   "id": "6a59eb01-f0c0-48fe-bacf-5644a3b868fa",
   "metadata": {},
   "source": [
    "**INSTRUCTIONS:** Just click on a cell (starting from the top one) and press the play button (single triangle) above. Then wait for the cell to finish (a number appears), and then do the one below. You only need to look at 'Explanation' and 'Display', but you need to run all cells."
   ]
  },
  {
   "cell_type": "code",
   "execution_count": 43,
   "id": "6e2624c6-66b4-4f73-bdfd-dd562cad7ce4",
   "metadata": {
    "tags": []
   },
   "outputs": [],
   "source": [
    "import ipywidgets as widgets\n",
    "from IPython.display import display\n",
    "import matplotlib.pyplot as plt\n",
    "import matplotlib.pyplot as plt\n",
    "import ipywidgets as widgets\n",
    "import pandas as pd\n",
    "import pickle\n",
    "import numpy as np\n",
    "import os"
   ]
  },
  {
   "cell_type": "markdown",
   "id": "d3c96e89-deac-4cf1-8e8c-693327c11607",
   "metadata": {},
   "source": [
    "# Explanation"
   ]
  },
  {
   "cell_type": "markdown",
   "id": "b31cb82b-5f3a-45b7-962a-6741ab57146e",
   "metadata": {},
   "source": [
    "\n",
    "**Changes Summary**:\n",
    "\n",
    "For details, see below.\n",
    "\n",
    "- Ideological orientation: is now a continuous scale, with liberal being positive values and conservative negative values. The starting population is drawn from a normal distribution with a mean and sd that we can set.\n",
    "- Researcher populations: there are now candidate researchers and tenured researchers. When a tenured researcher retires, they are replaced by a candidate researcher. Both publish papers, but only candidates self censure. They retire at different ages.\n",
    "- Hiring dynamics: Candidates replace retiring tenured researchers on the basis of the mean ideology of tenured resaerchers and number of accepted ideas.\n",
    "\n",
    "**Model parameters:**\n",
    "\n",
    "\n",
    "- N: Number of tenured and candidate researchers in the starting pool. The number of tenured is N, the number of candidates is 2*N.\n",
    "- num_ideas: number of ideas in the starting pool.\n",
    "- mean_ideology: the mean ideology of initialized researchers and initialized ideological ideas\n",
    "- sd_ideology: Standard deviation of the distribution from which starting ideologies are sampled. The larger this is, the more variation in these.\n",
    "- error: proportion of false positives and false negatives in peer review without ideological bias\n",
    "- p_false_positive: increase in proportion in false positives due to ideological bias\n",
    "- p_false_negative: increase in proportion in false negatives due to ideological bias\n",
    "- p_true_start: proportion of true ideas in the starting population of ideas\n",
    "- p_new_idea: probability in any given step of each researcher to launch a new idea \n",
    "- p_new_idea_true: probability that a newly launched idea is true\n",
    "- p_ideology_idea: probability that a newly launched idea is ideological. If it is not ideological, it has ideology 0 and is neutral.\n",
    "- promotion_weight_ideology: Candidates are selected for promotion on the basis of their ideology (in line with dominant or not) and number of papers published. This number (a value between 0 and 1) determines the weight of ideology. If set to 0, ideology does not play a role, if set to 1 the number of papers doesn't play a role.\n",
    "- p_ideology_reviewer: modifies how likely it is that you get a reviewer with the same ideology as the idea\n",
    "- censure: true or false for whether candidates from the minority ideology refrain from publishing ideological ideas. If True, to only publish neutral ideas.\n",
    "- sd_ideas: How much the orientation of a newly launched ideological idea can be different from that of its originator.\n",
    "\n",
    "\n",
    "**The model has the following assumptions about researchers:**\n",
    "\n",
    "*Two populations & population composition:*\n",
    "- There is a population of candidate researchers and a population of tenured researchers.\n",
    "- At initialization, the candidate researchers are between 23 and 35, and the tenured researchers are between 25 and 65.\n",
    "- Candidate researchers retire at 65, candidate researchers retire at 35.\n",
    "- The pool of candidate researchers is twice as big as that of tenured researchers.\n",
    "- When tenured researchers retire, they are replaced by a candidate researcher who then gets promoted. This candiate then gets replaced by a new candidate researcher. Thus, the total number of researchers always remains the same.\n",
    "- Candidates are promoted for selection on the basis of the number of accepted ideas they launched over the previous 10 ticks of the model and on the basis of their ideology. If their ideology is in line with the mean ideology, they get a boost in their chances to get hired, while if it is not they get a punishment. The parameter 'promotion_weight_ideology' determines the weight of ideology in the promotion decision. If it is set at 0, the decision is made entirely on the basis of number of papers. A higher value (between 0 and 1) gives more weight to ideology. Note: we could change this dynamic, and instead of letting the mean ideology determine the punishment/boost, we could let the ideology of the retiring researcher do that. Maybe this is more realistic?\n",
    "- Retiring candidates and promoted candidates are replaced by new candidates with an orientation randomly sampled from a normal distribution with mean 0 and sd 'sd_ideology'. In other words, their orientation is independent from the current mean or from the person they are replacing.\n",
    "\n",
    "*Idealogical Orientation:*\n",
    "- Each researcher has an ideological orientation which is on a continuous scale around 0 (neutral). Positive numbers are liberal, and negative numbers are conservative. \n",
    "- The ideology of the starting population of researchers is sampled from a normal distribution with mean 'mean_ideology' and standard deviation 'sd_ideology'. This is supposed to reflect the 1950s. Note: we could change this distribution on the basis of what we know about the 50ies. Is more of the mass towards the mean, or does it have longer tails? Is the distribution skewed? etc.\n",
    "\n",
    "\n",
    "*Launching and reviewing ideas:*\n",
    "- Every six months, each researcher launches a new idea with a probability of p_new_idea (currently 0.8)\n",
    "- This idea has a probability of being true of p_new_idea_true (currently 0.5)\n",
    "- This idea is either neutral or ideological, and this proportion is determined by 'p_ideology_idea'. If it is ideological, its orientation is sampled from a normal distribution with the orientation of the researcher set as the mean and the standard deviation 'sd_ideas'. \n",
    "- This idea is reviewed by two random other researchers from the population, and only added to the population of ideas if both reviewers think the idea is true.\n",
    "- If the 'censure' parameter is set to True, candidate_researchers who have an orientation that is not in line with the mean orientation will only launch neutral ideas.\n",
    "\n",
    "**The model has the following assumptions about ideas:**\n",
    "\n",
    "- All ideas have an idealogical orientation on the same continuous scale as the researchers.\n",
    "- The initial ideas are either neutral (ideology 0) or ideological, and the proportion is managed by p_ideology_idea. The ideological ideas are sampled from the same normal distribution as the researchers. While new ideas have a probability of being ideological of p_ideology_idea, the initial population has p_ideology_idea / 4. This is to artificially set up that the share of ideological ideas has increased compared to 70 years ago. Note: unsure whether we should do this.\n",
    "- All ideas are either true or false. The proportion of true ideas in the initial population is p_true_start.\n",
    "- Each step, we randomly remove the same number of ideas that is added after review. This way, the population of ideas remains the same.\n",
    "\n",
    "**The model has the following assumptions about peer review:**\n",
    "\n",
    "- Each newly launched idea is reviewed by two random researchers, and only admitted to the population if it gets considered True by each reviewer.\n",
    "- Reviewers have basic false positive and false negative raters set by error.\n",
    "- If a reviewer reviews a paper with their own ideological orientation (liberal reviewing liberal or conservative reviewing conservative -- no effect for neutral ideas or resaerchers), their false positive and false negative rates change:\n",
    "    - If the ideology of idea and reviewer is the same, the false positive rate (false papers being considered true) increases by p_false_positive.\n",
    "    - If the ideology of idea and reviewer is different, the false negative rate (true papers being considered false) increases by p_false_negative\n",
    "- If an idea is ideological, it has an increased probability of getting reviewer with the same orientation. More precisely, there is a certain probability, expressed by parameter 'p_ideology_reviewer', that instead of choosing random reviewers we randomly select 10% of the population and take the two reviewers with the ideology most in line with that of the idea. Note: This is pretty random, so we should think about how precisely we want to do this.\n",
    "\n",
    "**Questions:**\n",
    "\n",
    "- The interactive plots have varying variables for all parameters. Which parameters can we keep fixed? I think there are two criteria:\n",
    "    - Parameters that we know empirically (e.g. values from the 1950ies)\n",
    "    - Parameters that we are not really interested in, and that don't really have interesting effects such as interactions with other parameters or an effect on ideology. For example, I imagine that changing 'error' just makes more or less ideas false, but doesn't really change any of the model dynamics.\n",
    "    \n",
    "- Given the hiring dynamics we've put in (the mean orientation of the population plays a role in selecting candidates to replace retiring researchers) it is not surprising that whenever we run the model, one orientation just ends up dominating rather quickly. If the starting mean orientation is positive, everyone ends up liberal in the end, and vice versa for conservative (and if it is 0, the direction is random depending on noise but also ends in one extreme). Depending on how high the standard deviation of ideological ideas and hiring is, the mean orientation stabilizes after a while when all researchers in the population have the same orientation. *Does this mean we have to change the model dynamics? More precisely, should we use a different mechanism than rewarding candidates for having the same orientation as the mean of the population (and punishing people for the reverse)? We could, for example, check more rigorously if just the effect of ideological bias in peer review is enough to result in liberal domination.* \n",
    "    \n",
    "- The model has become very complex, and outcomes and dynamics depend on parameters for which we cannot really know the true value, such as p_false_positive (the extent to which ideology leads to false positive judgements) or p_ideology_idea (the proportion of ideas that are ideological). *Has the model become too complex to really do anything with it?* Originally we wanted to compare to how science really evolved, but this would require tuning so many unknown parameters that it is not clear that this is meaningful. The other aim we had was to confirm that the dynamics we had in mind really lead to a dominating ideology and more false ideas, and this does indeed seem to be the case. But again, it depends a bit on choosing parameters, and it is maybe not so surprising given the hiring dynamic we chose (using the mean orientation of the population). \n",
    "\n",
    "- One further way of makig the model more complex is by adding an epistemic landscape of ideas, part of which is ideological, and investigating how different dynamics mean that different parts of this landscape do or do not get explored. I imagine the outcome of this would just be that the part of the landscape that is more open to the minority opinion would not get explored, so maybe not so interesting. Worth looking into this?\n",
    "\n",
    "- The total number of ideas and resaerchers is kept stable: for each resaercher that retires, another one is hired, and for each idea that is accepted, another one disappears. This keeps the size of the model manageable, but it makes it a bit less realistic. Is that a problem?\n",
    "\n",
    "- Should we sample orientations from another distribution than the normal? There must be empirical data about this, maybe people tend to reside in clusters with some variation within these clusters? A micture of gaussian distributions could work for this (see below)."
   ]
  },
  {
   "cell_type": "code",
   "execution_count": 22,
   "id": "466db9ad-cf9d-4179-afd4-7d5713dfc8d4",
   "metadata": {
    "tags": []
   },
   "outputs": [
    {
     "data": {
      "image/png": "[encoded data removed]",
      "text/plain": [
       "<Figure size 800x200 with 1 Axes>"
      ]
     },
     "metadata": {},
     "output_type": "display_data"
    }
   ],
   "source": [
    "# Parameters for the mixture components\n",
    "means = [-3,-1,0, 1,3]\n",
    "variances = [0.6, 0.3, 0.5,0.3,0.6]\n",
    "weights = [0.25,0.2,0.1,0.2,0.25]  # Equal weights\n",
    "n_samples = 100000\n",
    "\n",
    "# Generate samples from each component\n",
    "samples = np.concatenate([\n",
    "    np.random.normal(mu, np.sqrt(sigma), int(w*n_samples))\n",
    "    for mu, sigma, w in zip(means, variances, weights)\n",
    "])\n",
    "plt.figure(figsize=(8, 2))  # 10 inches wide by 6 inches tall\n",
    "\n",
    "# Plotting the samples\n",
    "plt.hist(samples, bins=100, alpha=0.7, density=True)\n",
    "plt.title('Histogram of Samples from a Mixture of Gaussians')\n",
    "plt.show()"
   ]
  },
  {
   "cell_type": "markdown",
   "id": "a03df246-0ae2-4e63-bd80-e6cb20e236b9",
   "metadata": {
    "tags": []
   },
   "source": [
    "# Batch run data"
   ]
  },
  {
   "cell_type": "code",
   "execution_count": 17,
   "id": "f28191c0-eb80-483d-8e39-be6f2f650caa",
   "metadata": {
    "tags": []
   },
   "outputs": [],
   "source": [
    "# batch run values\n",
    "\n",
    "n_vals = 2\n",
    "\n",
    "N = 700\n",
    "num_ideas = 700\n",
    "n_ticks = 120# number of half years the model should run\n",
    "\n",
    "\n",
    "\n",
    "\n",
    "variable_params = {'N' : N, \n",
    "                   'num_ideas' : num_ideas ,\n",
    "                   'mean_ideology' : [0.05,0.5] ,\n",
    "                   'error' : [0.1,0.3] ,\n",
    "                   'p_false_positive' : np.linspace(0.05, 0.8, n_vals) ,\n",
    "                   'p_false_negative' : np.linspace(0.05, 0.8, n_vals) ,\n",
    "                   'p_true_start' : 0.9, \n",
    "                   'p_new_idea' : [0.3,0.7],\n",
    "                   'p_new_idea_true' : [0.3,0.7],\n",
    "                   'p_ideology_idea' : np.linspace(0.1, 0.8, n_vals),\n",
    "                   'sd_ideology': [0.2,1],\n",
    "                   'promotion_weight_ideology' : [0.3,0.7],\n",
    "                   'p_ideology_reviewer' : np.linspace(0.1,0.8, n_vals),\n",
    "                  'censure': [True,False],\n",
    "                  'sd_ideas' : [0.2,1] \n",
    "}"
   ]
  },
  {
   "cell_type": "code",
   "execution_count": 42,
   "id": "16de8dae-a6a3-4372-a385-783705d507d7",
   "metadata": {
    "tags": []
   },
   "outputs": [
    {
     "name": "stdout",
     "output_type": "stream",
     "text": [
      "Part part_0.pkl added, size 26214400 bytes.\n",
      "Part part_1.pkl added, size 26214400 bytes.\n",
      "Part part_2.pkl added, size 26214400 bytes.\n",
      "Part part_3.pkl added, size 26214400 bytes.\n",
      "Part part_4.pkl added, size 22517487 bytes.\n",
      "All parts have been recombined.\n"
     ]
    }
   ],
   "source": [
    "# batch run data\n",
    "# have to recombine the 25mb chunks into a single file due to github size limits\n",
    "\n",
    "\n",
    "def recombine_parts(parts, output_file_path):\n",
    "    \"\"\"Recombine parts back into a single file, checking the integrity of each part.\"\"\"\n",
    "    with open(output_file_path, 'wb') as output_file:\n",
    "        for part_file_path in parts:\n",
    "            if not os.path.exists(part_file_path):\n",
    "                print(f\"Missing part: {part_file_path}\")\n",
    "                continue\n",
    "            with open(part_file_path, 'rb') as part_file:\n",
    "                part_data = part_file.read()\n",
    "                if not part_data:\n",
    "                    print(f\"No data could be read from {part_file_path}\")\n",
    "                output_file.write(part_data)\n",
    "                print(f'Part {part_file_path} added, size {len(part_data)} bytes.')\n",
    "    print('All parts have been recombined.')\n",
    "    \n",
    "parts = ['part_0.pkl',\n",
    " 'part_1.pkl',\n",
    " 'part_2.pkl',\n",
    " 'part_3.pkl',\n",
    " 'part_4.pkl']\n",
    "\n",
    "# # Example usage to recombine and then load the data\n",
    "recombine_parts(parts, output_file_path='recombined.pkl')  # set num_parts correctly based on how many parts you have\n",
    "\n",
    "# Load the original data object\n",
    "with open('recombined.pkl', 'rb') as file:\n",
    "    batch_run = pickle.load(file)\n",
    "\n",
    "df = pd.DataFrame(batch_run)"
   ]
  },
  {
   "cell_type": "markdown",
   "id": "162e9f7a-9c9a-4031-a762-2a385a0aed45",
   "metadata": {
    "tags": []
   },
   "source": [
    "# Plotting code"
   ]
  },
  {
   "cell_type": "code",
   "execution_count": 39,
   "id": "541832ad-de21-4c56-ace9-043792a1afe3",
   "metadata": {
    "tags": []
   },
   "outputs": [],
   "source": [
    "# Plotting functions\n",
    "\n",
    "def preprocess_data(filtered_df):\n",
    "    # Make a copy of the DataFrame to avoid SettingWithCopyWarning\n",
    "    df = filtered_df.copy()\n",
    "\n",
    "    df['true_ideas'] = df[['True Ideas < -1', 'True Ideas -1 to 0', 'True Ideas 0 to 1', 'True Ideas > 1']].sum(axis=1)\n",
    "    df['false_ideas'] = df[['False Ideas < -1', 'False Ideas -1 to 0', 'False Ideas 0 to 1', 'False Ideas > 1']].sum(axis=1)\n",
    "    df['con'] = df['True Ideas -1 to 0'] + df['False Ideas -1 to 0']\n",
    "    df['e_con'] = df['True Ideas < -1'] + df['False Ideas < -1']\n",
    "    df['lib'] = df['True Ideas 0 to 1'] + df['False Ideas 0 to 1']\n",
    "    df['e_lib'] = df['True Ideas > 1'] + df['False Ideas > 1']\n",
    "\n",
    "    return df\n",
    "\n",
    "\n",
    "def update_plots(p_false_positive, p_false_negative, p_ideology_idea, promotion_weight_ideology, p_ideology_reviewer,\n",
    "                 censure, mean_ideology,error,p_new_idea,p_new_idea_true, sd_ideology,sd_ideas): #\n",
    "    filtered_df = df[\n",
    "        (df['p_false_positive'] == p_false_positive) &\n",
    "        (df['p_false_negative'] == p_false_negative) &\n",
    "        (df['p_ideology_idea'] == p_ideology_idea) &\n",
    "        (df['promotion_weight_ideology'] == promotion_weight_ideology) &\n",
    "        (df['p_ideology_reviewer'] == p_ideology_reviewer)  &\n",
    "        (df['censure'] == censure) &\n",
    "        (df['mean_ideology'] == mean_ideology) &\n",
    "        (df['error'] == error) &\n",
    "        (df['p_new_idea'] == p_new_idea) &\n",
    "        (df['p_new_idea_true'] == p_new_idea_true) &\n",
    "        (df['sd_ideology'] == sd_ideology) &\n",
    "        (df['sd_ideas'] == sd_ideas)\n",
    "        \n",
    "    ] #\n",
    "\n",
    "    if filtered_df.empty:\n",
    "        print(\"No data available for this combination of parameters.\")\n",
    "        return\n",
    "\n",
    "    filtered_df = preprocess_data(filtered_df)\n",
    "    n_ticks = len(filtered_df)  # Assuming the number of ticks is the length of the dataframe\n",
    "\n",
    "    # Plotting as per your code with slight modifications for clarity and correctness\n",
    "    fig, axs = plt.subplots(2, 3, figsize=(18, 12))\n",
    "    axs = axs.flatten()\n",
    "\n",
    "    \n",
    "    axs[0].plot(filtered_df['Step'],filtered_df['Researchers < -1'], color = 'darkblue')\n",
    "    axs[0].plot(filtered_df['Step'],filtered_df['Researchers -1 to 0'], color = 'lightblue')\n",
    "    axs[0].plot(filtered_df['Step'],filtered_df['Researchers 0 to 1'], color = 'lightgreen')\n",
    "    axs[0].plot(filtered_df['Step'],filtered_df['Researchers > 1'], color = 'darkgreen')\n",
    "    axs[0].set_title('Number of researchers', fontsize = 15)\n",
    "    \n",
    "\n",
    "    \n",
    "    # Number of ideas over time\n",
    "    axs[1].plot(filtered_df['Step'], filtered_df['e_con'], label='Extreme conservative', color='darkblue')\n",
    "    axs[1].plot(filtered_df['Step'], filtered_df['con'], label='Conservative', color='lightblue')\n",
    "    axs[1].plot(filtered_df['Step'], filtered_df['lib'], label='Liberal', color='lightgreen')\n",
    "    axs[1].plot(filtered_df['Step'], filtered_df['e_lib'], label='Extreme liberal', color='darkgreen')\n",
    "    axs[1].plot(filtered_df['Step'], filtered_df['total neutral ideas'], label='Neutral', color='grey')\n",
    "    axs[1].set_title('Number of Ideas', fontsize = 15)\n",
    "    axs[1].legend()\n",
    "\n",
    "    # Ideological orientation over time\n",
    "    axs[2].plot(filtered_df['Step'], filtered_df['Mean Orientation Tenured'], label='Tenured Researchers', color='red')\n",
    "    axs[2].plot(filtered_df['Step'], filtered_df['Mean Orientation Accepted Ideas'], label='Accepted Ideas', color='grey')\n",
    "    axs[2].set_title('Mean Ideological Orientation', fontsize = 15)\n",
    "    axs[2].legend()\n",
    "\n",
    "    # Truth value of ideas\n",
    "    axs[3].plot(filtered_df['Step'], filtered_df['False Ideas'], label='False Ideas', color='red')\n",
    "    axs[3].plot(filtered_df['Step'], filtered_df['True Ideas'], label='True Ideas', color='green')\n",
    "    axs[3].set_title('Truth Value', fontsize = 15)\n",
    "    axs[3].legend()\n",
    "\n",
    "    # True and False Ideas by Ideology\n",
    "    axs[4].plot(filtered_df['Step'], filtered_df['True Ideas > 1'] + filtered_df['True Ideas 0 to 1'], label='True Liberal', color='green')\n",
    "    axs[4].plot(filtered_df['Step'], filtered_df['False Ideas > 1'] + filtered_df['False Ideas 0 to 1'], label='False Liberal', color='green', linestyle=':')\n",
    "    axs[4].plot(filtered_df['Step'], filtered_df['True Ideas < -1'] + filtered_df['True Ideas -1 to 0'], label='True Conservative', color='blue')\n",
    "    axs[4].plot(filtered_df['Step'], filtered_df['False Ideas < -1'] + filtered_df['False Ideas -1 to 0'], label='False Conservative', color='blue', linestyle=':')\n",
    "    axs[4].plot(filtered_df['Step'],filtered_df['total neutral ideas'] - filtered_df['total true neutral ideas'], label = 'False neutral ideas', color = 'grey', linestyle = ':')\n",
    "    axs[4].plot(filtered_df['Step'],filtered_df['total true neutral ideas'], label = 'True neutral ideas', color = 'grey')\n",
    "    axs[4].set_title('True and False Ideas by Ideology', fontsize = 15)\n",
    "    axs[4].legend()\n",
    "    \n",
    "\n",
    "\n",
    "\n",
    "    # Proportion of Accepted Ideas\n",
    "    axs[5].plot(filtered_df['Step'], filtered_df['Proportion Accepted'], label='Proportion of ideas', color='purple')\n",
    "    axs[5].set_title('Proportion of Falsely Accepted and Rejected Ideas Over Time', fontsize = 15)\n",
    "    axs[5].legend()\n",
    "\n",
    "    plt.tight_layout()\n",
    "    plt.show()\n",
    "\n",
    "\n"
   ]
  },
  {
   "cell_type": "code",
   "execution_count": 40,
   "id": "0b15bf45-8119-4389-b1d5-3e1ce5784be6",
   "metadata": {
    "tags": []
   },
   "outputs": [],
   "source": [
    "# plottig code\n",
    "style = {'description_width': 'initial'}\n",
    "slider_layout = widgets.Layout(width='350px')  # Adjust width as needed    \n",
    "p_false_positive_slider = widgets.SelectionSlider(options=[(f\"{x:.2f}\", x) for x in np.linspace(0.05, 0.8, n_vals)], value=0.05, description='p_false_positive',style=style, layout = slider_layout)\n",
    "p_false_negative_slider = widgets.SelectionSlider(options=[(f\"{x:.2f}\", x) for x in np.linspace(0.05, 0.8, n_vals)], value=0.05, description='p_false_negative',style=style, layout = slider_layout)\n",
    "p_ideology_idea_slider = widgets.SelectionSlider(options=[(f\"{x:.2f}\", x) for x in np.linspace(0.1, 0.8, n_vals)], value=0.1, description='p_ideology_idea',style=style, layout = slider_layout)\n",
    "promotion_weight_ideology_slider = widgets.SelectionSlider(options=[(f\"{x:.1f}\", x) for x in [0.3, 0.7]], value=0.3, description='Promotion Weight Ideology',style=style, layout = slider_layout)\n",
    "p_ideology_reviewer_slider = widgets.SelectionSlider(options=[(f\"{x:.2f}\", x) for x in np.linspace(0.1, 0.8, n_vals)], value=0.1, description='p_ideology_reviewer',style=style, layout = slider_layout)\n",
    "censure_toggle = widgets.ToggleButtons(options=[(str(x), x) for x in [True, False]], value=True, description='Censure')\n",
    "\n",
    "mean_ideology_slider = widgets.SelectionSlider(options= [0.05,0.5] , value=0.05, description='mean_ideology',style=style, layout = slider_layout)\n",
    "error_slider = widgets.SelectionSlider(options=[0.1,0.3] , value=0.1, description='error',style=style, layout = slider_layout)\n",
    "p_new_idea_slider = widgets.SelectionSlider(options=[0.3,0.7], value=0.3, description='p_new_idea',style=style, layout = slider_layout)\n",
    "p_new_idea_true_slider = widgets.SelectionSlider(options=[0.3,0.7], value=0.3, description='p_new_idea_true',style=style, layout = slider_layout)\n",
    "sd_ideology_slider = widgets.SelectionSlider(options=[0.2,1], value=0.2, description='sd_ideology',style=style, layout = slider_layout)\n",
    "sd_ideas_slider = widgets.SelectionSlider(options=[0.2,1], value=0.2, description='sd_ideas',style=style, layout = slider_layout)\n",
    "\n",
    "\n",
    "\n",
    "\n",
    "ui = widgets.VBox([p_false_positive_slider, p_false_negative_slider, p_ideology_idea_slider, promotion_weight_ideology_slider, p_ideology_reviewer_slider,\n",
    "                  mean_ideology_slider, error_slider, p_new_idea_slider, p_new_idea_true_slider, sd_ideology_slider ,sd_ideas_slider, censure_toggle]) #\n",
    "out = widgets.interactive_output(update_plots, {'p_false_positive': p_false_positive_slider, 'p_false_negative': p_false_negative_slider, 'p_ideology_idea': p_ideology_idea_slider, \n",
    "                                                'promotion_weight_ideology': promotion_weight_ideology_slider,'p_ideology_reviewer': p_ideology_reviewer_slider, \n",
    "                                                 'mean_ideology':mean_ideology_slider, 'error':error_slider,\n",
    "                                               'p_new_idea':p_new_idea_slider, 'p_new_idea_true':p_new_idea_true_slider, 'sd_ideology':sd_ideology_slider,\n",
    "                                               'sd_ideas':sd_ideas_slider,'censure': censure_toggle}) #\n",
    "\n"
   ]
  },
  {
   "cell_type": "markdown",
   "id": "1a8e490c-1368-4339-a9bf-a42c63c8cf23",
   "metadata": {},
   "source": [
    "# Display\n",
    "\n",
    "Use the sliders and button (for censure) to shift between different values, and wait for the plots to change. The plots show the results of the model for the particular combination of parameter values that you have chosen in the sliders."
   ]
  },
  {
   "cell_type": "code",
   "execution_count": 41,
   "id": "04128663-0c2f-458b-b81f-a1af1b4b941f",
   "metadata": {
    "tags": []
   },
   "outputs": [
    {
     "data": {
      "application/vnd.jupyter.widget-view+json": {
       "model_id": "1241d9a5a753403e95b1fc8135f031c2",
       "version_major": 2,
       "version_minor": 0
      },
      "text/plain": [
       "VBox(children=(SelectionSlider(description='p_false_positive', layout=Layout(width='350px'), options=(('0.05',…"
      ]
     },
     "metadata": {},
     "output_type": "display_data"
    },
    {
     "data": {
      "application/vnd.jupyter.widget-view+json": {
       "model_id": "ee4177996d144e2eb2f84a506b86c604",
       "version_major": 2,
       "version_minor": 0
      },
      "text/plain": [
       "Output(outputs=({'output_type': 'display_data', 'data': {'text/plain': '<Figure size 1800x1200 with 6 Axes>', …"
      ]
     },
     "metadata": {},
     "output_type": "display_data"
    }
   ],
   "source": [
    "# display\n",
    "\n",
    "display(ui, out)"
   ]
  },
  {
   "cell_type": "code",
   "execution_count": null,
   "id": "e2327a06-1c24-4339-93d4-07e4f4c6ec77",
   "metadata": {},
   "outputs": [],
   "source": [
    "\n"
   ]
  }
 ],
 "metadata": {
  "kernelspec": {
   "display_name": "Python 3 (ipykernel)",
   "language": "python",
   "name": "python3"
  },
  "language_info": {
   "codemirror_mode": {
    "name": "ipython",
    "version": 3
   },
   "file_extension": ".py",
   "mimetype": "text/x-python",
   "name": "python",
   "nbconvert_exporter": "python",
   "pygments_lexer": "ipython3",
   "version": "3.10.13"
  }
 },
 "nbformat": 4,
 "nbformat_minor": 5
}
