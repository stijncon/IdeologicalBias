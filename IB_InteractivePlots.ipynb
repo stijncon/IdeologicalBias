{
 "cells": [
  {
   "cell_type": "code",
   "execution_count": 6,
   "id": "2b7361cc-bd65-49df-851b-28c80760fc66",
   "metadata": {
    "tags": []
   },
   "outputs": [],
   "source": [
    "import ipywidgets as widgets\n",
    "from IPython.display import display\n",
    "import matplotlib.pyplot as plt\n",
    "import matplotlib.pyplot as plt\n",
    "import ipywidgets as widgets\n",
    "import pandas as pd\n",
    "import pickle\n",
    "import numpy as np"
   ]
  },
  {
   "cell_type": "markdown",
   "id": "a03df246-0ae2-4e63-bd80-e6cb20e236b9",
   "metadata": {
    "tags": []
   },
   "source": [
    "# Batch run data"
   ]
  },
  {
   "cell_type": "code",
   "execution_count": 11,
   "id": "f28191c0-eb80-483d-8e39-be6f2f650caa",
   "metadata": {
    "tags": []
   },
   "outputs": [],
   "source": [
    "# batch run values\n",
    "\n",
    "n_vals = 2\n",
    "\n",
    "N = 700\n",
    "num_ideas = 700\n",
    "n_ticks = 120# number of half years the model should run\n",
    "\n",
    "\n",
    "\n",
    "\n",
    "variable_params = {'N' : N, \n",
    "                   'num_ideas' : num_ideas ,\n",
    "                   'mean_ideology' : [0.05,0.5] ,\n",
    "                   'error' : [0.1,0.3] ,\n",
    "                   'p_false_positive' : np.linspace(0.05, 0.8, n_vals) ,\n",
    "                   'p_false_negative' : np.linspace(0.05, 0.8, n_vals) ,\n",
    "                   'p_true_start' : 0.9, \n",
    "                   'p_new_idea' : [0.3,0.7],\n",
    "                   'p_new_idea_true' : [0.3,0.7],\n",
    "                   'p_ideology_idea' : np.linspace(0.1, 0.8, n_vals),\n",
    "                   'sd_ideology': [0.2,1],\n",
    "                   'promotion_weight_ideology' : [0.3,0.7],\n",
    "                   'p_ideology_reviewer' : np.linspace(0.1,0.8, n_vals),\n",
    "                  'censure': [True,False],\n",
    "                  'sd_ideas' : [0.2,1] \n",
    "}"
   ]
  },
  {
   "cell_type": "code",
   "execution_count": 3,
   "id": "16de8dae-a6a3-4372-a385-783705d507d7",
   "metadata": {
    "tags": []
   },
   "outputs": [
    {
     "name": "stdout",
     "output_type": "stream",
     "text": [
      "File loaded successfully!\n"
     ]
    }
   ],
   "source": [
    "# batch run data\n",
    "\n",
    "file_path = 'version2_test2.pkl'\n",
    "\n",
    "try:\n",
    "    with open(file_path, 'rb') as file:\n",
    "        batch_run = pickle.load(file)\n",
    "    print(\"File loaded successfully!\")\n",
    "\n",
    "except FileNotFoundError:\n",
    "    print(\"File not found. Please check the file path.\")\n",
    "except Exception as e:\n",
    "    print(f\"An error occurred: {e}\")\n",
    "\n",
    "df = pd.DataFrame(batch_run)"
   ]
  },
  {
   "cell_type": "markdown",
   "id": "162e9f7a-9c9a-4031-a762-2a385a0aed45",
   "metadata": {},
   "source": [
    "# Plotting code"
   ]
  },
  {
   "cell_type": "code",
   "execution_count": 4,
   "id": "541832ad-de21-4c56-ace9-043792a1afe3",
   "metadata": {
    "tags": []
   },
   "outputs": [],
   "source": [
    "# Plotting functions\n",
    "\n",
    "def preprocess_data(filtered_df):\n",
    "    # Make a copy of the DataFrame to avoid SettingWithCopyWarning\n",
    "    df = filtered_df.copy()\n",
    "\n",
    "    df['true_ideas'] = df[['True Ideas < -1', 'True Ideas -1 to 0', 'True Ideas 0 to 1', 'True Ideas > 1']].sum(axis=1)\n",
    "    df['false_ideas'] = df[['False Ideas < -1', 'False Ideas -1 to 0', 'False Ideas 0 to 1', 'False Ideas > 1']].sum(axis=1)\n",
    "    df['con'] = df['True Ideas -1 to 0'] + df['False Ideas -1 to 0']\n",
    "    df['e_con'] = df['True Ideas < -1'] + df['False Ideas < -1']\n",
    "    df['lib'] = df['True Ideas 0 to 1'] + df['False Ideas 0 to 1']\n",
    "    df['e_lib'] = df['True Ideas > 1'] + df['False Ideas > 1']\n",
    "    df['total_researchers'] = df['Mean Orientation Tenured'] + df['Mean Orientation Candidate']\n",
    "\n",
    "    return df\n",
    "\n",
    "\n",
    "def update_plots(p_false_positive, p_false_negative, p_ideology_idea, promotion_weight_ideology, p_ideology_reviewer,\n",
    "                 censure, mean_ideology,error,p_new_idea,p_new_idea_true, sd_ideology,sd_ideas): #\n",
    "    filtered_df = df[\n",
    "        (df['p_false_positive'] == p_false_positive) &\n",
    "        (df['p_false_negative'] == p_false_negative) &\n",
    "        (df['p_ideology_idea'] == p_ideology_idea) &\n",
    "        (df['promotion_weight_ideology'] == promotion_weight_ideology) &\n",
    "        (df['p_ideology_reviewer'] == p_ideology_reviewer)  &\n",
    "        (df['censure'] == censure) &\n",
    "        (df['mean_ideology'] == mean_ideology) &\n",
    "        (df['error'] == error) &\n",
    "        (df['p_new_idea'] == p_new_idea) &\n",
    "        (df['p_new_idea_true'] == p_new_idea_true) &\n",
    "        (df['sd_ideology'] == sd_ideology) &\n",
    "        (df['sd_ideas'] == sd_ideas)\n",
    "        \n",
    "    ] #\n",
    "\n",
    "    if filtered_df.empty:\n",
    "        print(\"No data available for this combination of parameters.\")\n",
    "        return\n",
    "\n",
    "    filtered_df = preprocess_data(filtered_df)\n",
    "    n_ticks = len(filtered_df)  # Assuming the number of ticks is the length of the dataframe\n",
    "\n",
    "    # Plotting as per your code with slight modifications for clarity and correctness\n",
    "    fig, axs = plt.subplots(2, 3, figsize=(18, 12))\n",
    "    axs = axs.flatten()\n",
    "\n",
    "    \n",
    "    axs[0].plot(filtered_df['Step'],filtered_df['Researchers < -1'], color = 'darkblue')\n",
    "    axs[0].plot(filtered_df['Step'],filtered_df['Researchers -1 to 0'], color = 'lightblue')\n",
    "    axs[0].plot(filtered_df['Step'],filtered_df['Researchers 0 to 1'], color = 'lightgreen')\n",
    "    axs[0].plot(filtered_df['Step'],filtered_df['Researchers > 1'], color = 'darkgreen')\n",
    "    axs[0].set_title('Number of researchers')\n",
    "    \n",
    "\n",
    "    \n",
    "    # Number of ideas over time\n",
    "    axs[1].plot(filtered_df['Step'], filtered_df['e_con'], label='Extreme conservative', color='darkblue')\n",
    "    axs[1].plot(filtered_df['Step'], filtered_df['con'], label='Conservative', color='lightblue')\n",
    "    axs[1].plot(filtered_df['Step'], filtered_df['lib'], label='Liberal', color='lightgreen')\n",
    "    axs[1].plot(filtered_df['Step'], filtered_df['e_lib'], label='Extreme liberal', color='darkgreen')\n",
    "    axs[1].plot(filtered_df['Step'], filtered_df['total neutral ideas'], label='Neutral', color='grey')\n",
    "    axs[1].set_title('Number of Ideas')\n",
    "    axs[1].legend()\n",
    "\n",
    "    # Ideological orientation over time\n",
    "    axs[2].plot(filtered_df['Step'], filtered_df['Mean Orientation Tenured'], label='Tenured Researchers', color='red')\n",
    "    axs[2].plot(filtered_df['Step'], filtered_df['Mean Orientation Accepted Ideas'], label='Accepted Ideas', color='grey')\n",
    "    axs[2].set_title('Mean Ideological Orientation')\n",
    "    axs[2].legend()\n",
    "\n",
    "    # Truth value of ideas\n",
    "    axs[3].plot(filtered_df['Step'], filtered_df['False Ideas'], label='False Ideas', color='red')\n",
    "    axs[3].plot(filtered_df['Step'], filtered_df['True Ideas'], label='True Ideas', color='green')\n",
    "    axs[3].set_title('Truth Value')\n",
    "    axs[3].legend()\n",
    "\n",
    "    # True and False Ideas by Ideology\n",
    "    axs[4].plot(filtered_df['Step'], filtered_df['True Ideas > 1'] + filtered_df['True Ideas 0 to 1'], label='True Liberal', color='green')\n",
    "    axs[4].plot(filtered_df['Step'], filtered_df['False Ideas > 1'] + filtered_df['False Ideas 0 to 1'], label='False Liberal', color='green', linestyle=':')\n",
    "    axs[4].plot(filtered_df['Step'], filtered_df['True Ideas < -1'] + filtered_df['True Ideas -1 to 0'], label='True Conservative', color='blue')\n",
    "    axs[4].plot(filtered_df['Step'], filtered_df['False Ideas < -1'] + filtered_df['False Ideas -1 to 0'], label='False Conservative', color='blue', linestyle=':')\n",
    "    axs[4].plot(filtered_df['Step'],filtered_df['total neutral ideas'] - filtered_df['total true neutral ideas'], label = 'False neutral ideas', color = 'grey', linestyle = ':')\n",
    "    axs[4].plot(filtered_df['Step'],filtered_df['total true neutral ideas'], label = 'True neutral ideas', color = 'grey')\n",
    "    axs[4].set_title('True and False Ideas by Ideology')\n",
    "    axs[4].legend()\n",
    "    \n",
    "\n",
    "\n",
    "\n",
    "    # Proportion of Accepted Ideas\n",
    "    axs[5].plot(filtered_df['Step'], filtered_df['Proportion Accepted'], label='Proportion of ideas', color='purple')\n",
    "    axs[5].set_title('Proportion of Falsely Accepted and Rejected Ideas Over Time')\n",
    "    axs[5].legend()\n",
    "\n",
    "    plt.tight_layout()\n",
    "    plt.show()\n",
    "\n",
    "\n"
   ]
  },
  {
   "cell_type": "code",
   "execution_count": 9,
   "id": "0b15bf45-8119-4389-b1d5-3e1ce5784be6",
   "metadata": {
    "tags": []
   },
   "outputs": [],
   "source": [
    "# plottig code\n",
    "style = {'description_width': 'initial'}\n",
    "slider_layout = widgets.Layout(width='350px')  # Adjust width as needed    \n",
    "p_false_positive_slider = widgets.SelectionSlider(options=[(f\"{x:.2f}\", x) for x in np.linspace(0.05, 0.8, n_vals)], value=0.05, description='p_false_positive',style=style, layout = slider_layout)\n",
    "p_false_negative_slider = widgets.SelectionSlider(options=[(f\"{x:.2f}\", x) for x in np.linspace(0.05, 0.8, n_vals)], value=0.05, description='p_false_negative',style=style, layout = slider_layout)\n",
    "p_ideology_idea_slider = widgets.SelectionSlider(options=[(f\"{x:.2f}\", x) for x in np.linspace(0.1, 0.8, n_vals)], value=0.1, description='p_ideology_idea',style=style, layout = slider_layout)\n",
    "promotion_weight_ideology_slider = widgets.SelectionSlider(options=[(f\"{x:.1f}\", x) for x in [0.3, 0.7]], value=0.3, description='Promotion Weight Ideology',style=style, layout = slider_layout)\n",
    "p_ideology_reviewer_slider = widgets.SelectionSlider(options=[(f\"{x:.2f}\", x) for x in np.linspace(0.1, 0.8, n_vals)], value=0.1, description='p_ideology_reviewer',style=style, layout = slider_layout)\n",
    "censure_toggle = widgets.ToggleButtons(options=[(str(x), x) for x in [True, False]], value=True, description='Censure')\n",
    "\n",
    "mean_ideology_slider = widgets.SelectionSlider(options= [0.05,0.5] , value=0.05, description='mean_ideology',style=style, layout = slider_layout)\n",
    "error_slider = widgets.SelectionSlider(options=[0.1,0.3] , value=0.1, description='error',style=style, layout = slider_layout)\n",
    "p_new_idea_slider = widgets.SelectionSlider(options=[0.3,0.7], value=0.3, description='p_new_idea',style=style, layout = slider_layout)\n",
    "p_new_idea_true_slider = widgets.SelectionSlider(options=[0.3,0.7], value=0.3, description='p_new_idea_true',style=style, layout = slider_layout)\n",
    "sd_ideology_slider = widgets.SelectionSlider(options=[0.2,1], value=0.2, description='sd_ideology',style=style, layout = slider_layout)\n",
    "sd_ideas_slider = widgets.SelectionSlider(options=[0.2,1], value=0.2, description='sd_ideas',style=style, layout = slider_layout)\n",
    "\n",
    "\n",
    "\n",
    "\n",
    "ui = widgets.VBox([p_false_positive_slider, p_false_negative_slider, p_ideology_idea_slider, promotion_weight_ideology_slider, p_ideology_reviewer_slider,\n",
    "                  mean_ideology_slider, error_slider, p_new_idea_slider, p_new_idea_true_slider, sd_ideology_slider ,sd_ideas_slider, censure_toggle]) #\n",
    "out = widgets.interactive_output(update_plots, {'p_false_positive': p_false_positive_slider, 'p_false_negative': p_false_negative_slider, 'p_ideology_idea': p_ideology_idea_slider, \n",
    "                                                'promotion_weight_ideology': promotion_weight_ideology_slider,'p_ideology_reviewer': p_ideology_reviewer_slider, \n",
    "                                                 'mean_ideology':mean_ideology_slider, 'error':error_slider,\n",
    "                                               'p_new_idea':p_new_idea_slider, 'p_new_idea_true':p_new_idea_true_slider, 'sd_ideology':sd_ideology_slider,\n",
    "                                               'sd_ideas':sd_ideas_slider,'censure': censure_toggle}) #\n",
    "\n"
   ]
  },
  {
   "cell_type": "code",
   "execution_count": 10,
   "id": "04128663-0c2f-458b-b81f-a1af1b4b941f",
   "metadata": {
    "tags": []
   },
   "outputs": [
    {
     "data": {
      "application/vnd.jupyter.widget-view+json": {
       "model_id": "9d2f0aca71d946b9adc2811349b5b908",
       "version_major": 2,
       "version_minor": 0
      },
      "text/plain": [
       "VBox(children=(SelectionSlider(description='p_false_positive', layout=Layout(width='350px'), options=(('0.05',…"
      ]
     },
     "metadata": {},
     "output_type": "display_data"
    },
    {
     "data": {
      "application/vnd.jupyter.widget-view+json": {
       "model_id": "5a99801e57894f83855e5bf22c83a5f8",
       "version_major": 2,
       "version_minor": 0
      },
      "text/plain": [
       "Output(outputs=({'output_type': 'display_data', 'data': {'text/plain': '<Figure size 1800x1200 with 6 Axes>', …"
      ]
     },
     "metadata": {},
     "output_type": "display_data"
    }
   ],
   "source": [
    "# display\n",
    "\n",
    "display(ui, out)"
   ]
  },
  {
   "cell_type": "code",
   "execution_count": null,
   "id": "e2327a06-1c24-4339-93d4-07e4f4c6ec77",
   "metadata": {},
   "outputs": [],
   "source": [
    "\n"
   ]
  }
 ],
 "metadata": {
  "kernelspec": {
   "display_name": "Python 3 (ipykernel)",
   "language": "python",
   "name": "python3"
  },
  "language_info": {
   "codemirror_mode": {
    "name": "ipython",
    "version": 3
   },
   "file_extension": ".py",
   "mimetype": "text/x-python",
   "name": "python",
   "nbconvert_exporter": "python",
   "pygments_lexer": "ipython3",
   "version": "3.10.13"
  }
 },
 "nbformat": 4,
 "nbformat_minor": 5
}
